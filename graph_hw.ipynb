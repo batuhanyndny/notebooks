{
  "nbformat": 4,
  "nbformat_minor": 0,
  "metadata": {
    "colab": {
      "name": "graph_hw.ipynb",
      "provenance": [],
      "include_colab_link": true
    },
    "kernelspec": {
      "name": "python3",
      "display_name": "Python 3"
    }
  },
  "cells": [
    {
      "cell_type": "markdown",
      "metadata": {
        "id": "view-in-github",
        "colab_type": "text"
      },
      "source": [
        "<a href=\"https://colab.research.google.com/github/batuhanyndny/notebooks/blob/master/graph_hw.ipynb\" target=\"_parent\"><img src=\"https://colab.research.google.com/assets/colab-badge.svg\" alt=\"Open In Colab\"/></a>"
      ]
    },
    {
      "cell_type": "code",
      "metadata": {
        "id": "VbrRLg1vq6r_"
      },
      "source": [
        "from itertools import combinations \n",
        "import numpy as np\n",
        "\n",
        "def calc_graph_2(n):\n",
        "  for i in range(2,n+1):\n",
        "    comb = combinations(range(1,n+1),i)\n",
        "    for j in comb:\n",
        "      yield j\n",
        "      \n",
        "def verticies(n):\n",
        "  s1 = []\n",
        "  for i in range(len(n)):\n",
        "    s1.append(i+1)\n",
        "  return s1\n",
        "\n",
        "def subs(l):\n",
        "  if l ==[]:\n",
        "    return [[]]\n",
        "  \n",
        "  x = subs(l[1:])\n",
        "  print(x)\n",
        "  return x + [[l[0]]+ y for y in x ]\n",
        "\n",
        "def subset(n):\n",
        "  l = verticies(n)\n",
        "  return subs(l)"
      ],
      "execution_count": null,
      "outputs": []
    },
    {
      "cell_type": "code",
      "metadata": {
        "id": "haRmx-xWsyd2",
        "colab": {
          "base_uri": "https://localhost:8080/",
          "height": 109
        },
        "outputId": "dd360de6-27a4-459a-b59f-8e110e0658cd"
      },
      "source": [
        "out = subset(range(1,4))\n",
        "print(\"len of out = \",len(out))\n",
        "print(out)"
      ],
      "execution_count": null,
      "outputs": [
        {
          "output_type": "stream",
          "text": [
            "[[]]\n",
            "[[], [3]]\n",
            "[[], [3], [2], [2, 3]]\n",
            "len of out =  8\n",
            "[[], [3], [2], [2, 3], [1], [1, 3], [1, 2], [1, 2, 3]]\n"
          ],
          "name": "stdout"
        }
      ]
    },
    {
      "cell_type": "code",
      "metadata": {
        "id": "gOnYe_gtzTso",
        "colab": {
          "base_uri": "https://localhost:8080/",
          "height": 35
        },
        "outputId": "ac0b7fd6-9700-4b9d-ed05-6ac7933c6c84"
      },
      "source": [
        "out = list(calc_graph_2(4))\n",
        "verticies(out)"
      ],
      "execution_count": null,
      "outputs": [
        {
          "output_type": "execute_result",
          "data": {
            "text/plain": [
              "[1, 2, 3, 4, 5, 6, 7, 8, 9, 10, 11]"
            ]
          },
          "metadata": {
            "tags": []
          },
          "execution_count": 7
        }
      ]
    },
    {
      "cell_type": "code",
      "metadata": {
        "id": "dD-AbxRj3HOp",
        "colab": {
          "base_uri": "https://localhost:8080/",
          "height": 35
        },
        "outputId": "db6e21db-468f-4608-ecf6-6b550cb8b110"
      },
      "source": [
        "subs([1,2,3])"
      ],
      "execution_count": null,
      "outputs": [
        {
          "output_type": "execute_result",
          "data": {
            "text/plain": [
              "[[], [3], [2], [2, 3], [1], [1, 3], [1, 2], [1, 2, 3]]"
            ]
          },
          "metadata": {
            "tags": []
          },
          "execution_count": 26
        }
      ]
    },
    {
      "cell_type": "code",
      "metadata": {
        "id": "szgO50uv8F9j"
      },
      "source": [
        ""
      ],
      "execution_count": null,
      "outputs": []
    }
  ]
}