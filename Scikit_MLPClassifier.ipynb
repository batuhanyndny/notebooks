{
  "nbformat": 4,
  "nbformat_minor": 0,
  "metadata": {
    "colab": {
      "name": "Scikit-MLPClassifier.ipynb",
      "provenance": [],
      "collapsed_sections": [],
      "authorship_tag": "ABX9TyPA427PUUrvMRse0m4yaHIY",
      "include_colab_link": true
    },
    "kernelspec": {
      "name": "python3",
      "display_name": "Python 3"
    }
  },
  "cells": [
    {
      "cell_type": "markdown",
      "metadata": {
        "id": "view-in-github",
        "colab_type": "text"
      },
      "source": [
        "<a href=\"https://colab.research.google.com/github/batuhanyndny/notebooks/blob/master/Scikit_MLPClassifier.ipynb\" target=\"_parent\"><img src=\"https://colab.research.google.com/assets/colab-badge.svg\" alt=\"Open In Colab\"/></a>"
      ]
    },
    {
      "cell_type": "code",
      "metadata": {
        "id": "ev9QIyEiEHrf"
      },
      "source": [
        "from sklearn.neural_network import MLPClassifier\n",
        "from sklearn.datasets import make_classification\n",
        "from sklearn.model_selection import train_test_split\n",
        "from sklearn.datasets import load_digits\n",
        "from sklearn.model_selection import train_test_split, KFold\n",
        "from sklearn.metrics import confusion_matrix\n",
        "\n",
        "import warnings\n",
        "warnings.filterwarnings('ignore')"
      ],
      "execution_count": null,
      "outputs": []
    },
    {
      "cell_type": "code",
      "metadata": {
        "colab": {
          "base_uri": "https://localhost:8080/"
        },
        "id": "HTwaLrR2HzK2",
        "outputId": "cd50504a-3434-468b-9b91-22fcf1a2a51d"
      },
      "source": [
        "digits = load_digits()\n",
        "X = digits.data\n",
        "y = digits.target\n",
        "\n",
        "kf = KFold(n_splits=5)\n",
        "\n",
        "best_clf = None\n",
        "best_score = 0\n",
        "best_indices = None\n",
        "for train_index, test_index in kf.split(X):\n",
        "  X_train, X_test = X[train_index], X[test_index]\n",
        "  y_train, y_test = y[train_index], y[test_index]\n",
        "  clf = MLPClassifier(random_state=42, max_iter=10, activation='logistic', solver='adam').fit(X_train, y_train)\n",
        "  score = clf.score(X_test, y_test)\n",
        "  if (score > best_score):\n",
        "    best_clf = clf\n",
        "    best_score = score\n",
        "    best_indices = {\"train\": train_index, \"test\": test_index}\n",
        "\n",
        "\n",
        "y_pred = best_clf.predict(X_test)\n",
        "conf_matrix = confusion_matrix(y_test, y_pred)\n",
        "print(f'Best classifier score: {best_score}\\nConfusion Matrix: {conf_matrix}')"
      ],
      "execution_count": null,
      "outputs": [
        {
          "output_type": "stream",
          "text": [
            "Best classifier score: 0.9415041782729805\n",
            "Confusion Matrix: [[34  0  0  0  1  0  0  0  0  0]\n",
            " [ 0 27  0  0  1  0  0  0  0  8]\n",
            " [ 0  0 33  1  0  0  0  0  0  0]\n",
            " [ 0  1  0 30  0  1  1  3  1  0]\n",
            " [ 0  0  0  0 34  0  0  0  3  0]\n",
            " [ 0  1  0  0  0 36  0  0  0  0]\n",
            " [ 0  2  0  0  0  0 35  0  0  0]\n",
            " [ 0  0  0  0  0  0  0 35  1  0]\n",
            " [ 0  2  0  1  1  2  0  2 21  4]\n",
            " [ 0  0  0  2  0  3  0  1  1 30]]\n"
          ],
          "name": "stdout"
        }
      ]
    },
    {
      "cell_type": "markdown",
      "metadata": {
        "id": "jsDdM_IuUbMq"
      },
      "source": [
        "# LOGS\n",
        "`solver: sgd` , `activation: relu` : 0.9192200557103064 \n",
        "\n",
        "`solver: sgd` , `activation: tanh` : 0.7855153203342619\n",
        "\n",
        "`solver: sgd` , `activation: logistic` : 0.7103064066852368\n",
        "\n",
        "`solver: adam` , `activation: relu` : 0.9275766016713092\n",
        "\n",
        "`solver: adam` , `activation: tanh` : 0.935933147632312\n",
        "\n",
        "`solver: adam` , `activation: logistic` : 0.9415041782729805\n"
      ]
    },
    {
      "cell_type": "code",
      "metadata": {
        "id": "5-wLKBx6UruV"
      },
      "source": [
        ""
      ],
      "execution_count": null,
      "outputs": []
    }
  ]
}