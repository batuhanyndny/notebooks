{
  "nbformat": 4,
  "nbformat_minor": 0,
  "metadata": {
    "colab": {
      "name": "steganography.ipynb",
      "provenance": [],
      "collapsed_sections": [],
      "include_colab_link": true
    },
    "kernelspec": {
      "name": "python3",
      "display_name": "Python 3"
    }
  },
  "cells": [
    {
      "cell_type": "markdown",
      "metadata": {
        "id": "view-in-github",
        "colab_type": "text"
      },
      "source": [
        "<a href=\"https://colab.research.google.com/github/batuhanyndny/notebooks/blob/master/steganography.ipynb\" target=\"_parent\"><img src=\"https://colab.research.google.com/assets/colab-badge.svg\" alt=\"Open In Colab\"/></a>"
      ]
    },
    {
      "cell_type": "code",
      "metadata": {
        "id": "Z_L8BA9JLgHY",
        "colab": {
          "base_uri": "https://localhost:8080/",
          "height": 209
        },
        "outputId": "e65e4866-6adf-447a-9931-b7034f4ff4fe"
      },
      "source": [
        "from PIL import Image\n",
        "import binascii\n",
        "import optparse\n",
        "\n",
        "def rgb2hex(r, g, b):\n",
        "  return '#{:02x}{:02x}{:02x}'.format(r, g, b)\n",
        "\n",
        "def hex2rgb(hexcode):\n",
        "  return tuple(map(ord,hexcode[1:].decode('hex')))\n",
        "\n",
        "def str2bin(msg):\n",
        "  binary = bin(int(binascii.hexlify(msg), 16))\n",
        "  return binary\n",
        "\n",
        "def bin2str(binary):\n",
        "  msg = binascii.unhexlify('%x' %(int('0b'+binary, 2)))\n",
        "  return msg\n",
        "\n",
        "def encode(hexcode, digit):\n",
        "  if hexcode[-1] in ('0', '1', '2', '3', '4', '5'):\n",
        "    hexcode = hexcode[:-1] + digit\n",
        "    return hexcode\n",
        "  else:\n",
        "    return None\n",
        "  \n",
        "def decode(hexcode):\n",
        "  if hexcode[-1] in ('0', '1'):\n",
        "    return hexcode[-1]\n",
        "  else:\n",
        "    return None\n",
        "\n",
        "def hide(fname, msg):\n",
        "  img = Image.open(fname)\n",
        "  binary = str2bin(msg) + '1111111111111110'\n",
        "  if img.mode in ('RGBA'):\n",
        "    img = img.convert('RGBA')\n",
        "    datas = img.getdata()\n",
        "    \n",
        "    newData = []\n",
        "    digit = 0\n",
        "    temp = ''\n",
        "    for pixel in datas:\n",
        "      if (digit < len(binary)):\n",
        "        newpix = encode(rgb2hex(pixel[0], pixel[1], pixel[2]),binary[digit])\n",
        "        if newpix == None:\n",
        "          newData.append(pixel)\n",
        "        else:\n",
        "          r, g, b = hex2rgb(newpix)\n",
        "          newData.append((r, g, b, 255))\n",
        "          digit += 1\n",
        "      else:\n",
        "        newData.append(pixel)\n",
        "        \n",
        "    img.putdata(newData)\n",
        "    img.save(fname,'PNG')\n",
        "    return 'Completed.'\n",
        "  return 'incorrect image mode, operation failed'\n",
        "\n",
        "\n",
        "\n",
        "\n",
        "def retr(fname):\n",
        "  img = Image.open(fname)\n",
        "  binary = ''\n",
        "  if img.mode in ('RGBA'):\n",
        "    img = img.convert('RGBA')\n",
        "    datas = img.getdata()\n",
        "    for pixel in datas:\n",
        "      digit = decode(rgb2hex(pixel[0], pixel[1], pixel[2]))\n",
        "      if digit == None:\n",
        "        pass\n",
        "      else:\n",
        "        binary = binary + digit\n",
        "        if binary[-16:] == '1111111111111110':\n",
        "          print('success')\n",
        "          return bin2str(binary[:-16])\n",
        "    return bin2str(binary)\n",
        "  return 'incorrect image mode, operation failed'\n",
        "\n",
        "def Main():\n",
        "  parser = optparse.OptionParser('usage %prog'+\\\n",
        "                                 '-e / -d <target file>')\n",
        "  parser.add_option('-e', dest='hide', type='string', \\\n",
        "                    help='target picture path to hide text')\n",
        "  parser.add_option('-d', dest='retr', type='string', \\\n",
        "                    help='target picture path to retrieve text')\n",
        "  \n",
        "  (options, args) = parser.parse_args()\n",
        "  \n",
        "  if (options.hide) != None:\n",
        "    text = input('Enter a message to hide: ')\n",
        "    print(hide(options.hide, text))\n",
        "  elif options.retr != None:\n",
        "    print(retr(options.retr))\n",
        "  else:\n",
        "    print(parser.usage)\n",
        "    exit(0)\n",
        "    \n",
        "if __name__ == '__main__':\n",
        "  Main()"
      ],
      "execution_count": null,
      "outputs": [
        {
          "output_type": "stream",
          "text": [
            "Usage: usage ipykernel_launcher.py-e / -d <target file>\n",
            "\n",
            "ipykernel_launcher.py: error: no such option: -f\n"
          ],
          "name": "stderr"
        },
        {
          "output_type": "error",
          "ename": "SystemExit",
          "evalue": "ignored",
          "traceback": [
            "An exception has occurred, use %tb to see the full traceback.\n",
            "\u001b[0;31mSystemExit\u001b[0m\u001b[0;31m:\u001b[0m 2\n"
          ]
        },
        {
          "output_type": "stream",
          "text": [
            "/usr/local/lib/python3.6/dist-packages/IPython/core/interactiveshell.py:2890: UserWarning: To exit: use 'exit', 'quit', or Ctrl-D.\n",
            "  warn(\"To exit: use 'exit', 'quit', or Ctrl-D.\", stacklevel=1)\n"
          ],
          "name": "stderr"
        }
      ]
    },
    {
      "cell_type": "code",
      "metadata": {
        "id": "kHewrs0XU62O"
      },
      "source": [
        ""
      ],
      "execution_count": null,
      "outputs": []
    }
  ]
}