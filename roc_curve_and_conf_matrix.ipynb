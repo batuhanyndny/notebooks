{
  "nbformat": 4,
  "nbformat_minor": 0,
  "metadata": {
    "colab": {
      "name": "roc_curve_and_conf_matrix.ipynb",
      "provenance": [],
      "collapsed_sections": [],
      "authorship_tag": "ABX9TyOCzX/i/yoKY+i6Plo8e15R",
      "include_colab_link": true
    },
    "kernelspec": {
      "name": "python3",
      "display_name": "Python 3"
    },
    "language_info": {
      "name": "python"
    }
  },
  "cells": [
    {
      "cell_type": "markdown",
      "metadata": {
        "id": "view-in-github",
        "colab_type": "text"
      },
      "source": [
        "<a href=\"https://colab.research.google.com/github/batuhanyndny/notebooks/blob/master/roc_curve_and_conf_matrix.ipynb\" target=\"_parent\"><img src=\"https://colab.research.google.com/assets/colab-badge.svg\" alt=\"Open In Colab\"/></a>"
      ]
    },
    {
      "cell_type": "code",
      "metadata": {
        "id": "auOcUkpmOThy"
      },
      "source": [
        "import numpy as np \n",
        "import pandas as pd # dataframes\n",
        "from sklearn.svm import SVC # svm\n",
        "#preprocessing\n",
        "from sklearn.model_selection import train_test_split \n",
        "# metrics\n",
        "from sklearn.metrics import confusion_matrix, accuracy_score\n",
        "from sklearn.metrics import plot_confusion_matrix, plot_roc_curve\n",
        "# visualization\n",
        "import matplotlib.pyplot as plt"
      ],
      "execution_count": null,
      "outputs": []
    },
    {
      "cell_type": "code",
      "metadata": {
        "id": "p_gCCLJuOqOn"
      },
      "source": [
        "df = pd.read_csv(\"haberman.csv\")\n",
        "Y = df.pop(\"SURVIVAL\")\n",
        "X = df"
      ],
      "execution_count": null,
      "outputs": []
    },
    {
      "cell_type": "code",
      "metadata": {
        "colab": {
          "base_uri": "https://localhost:8080/"
        },
        "id": "FyMYVtF0OvFx",
        "outputId": "970d25d0-3036-4018-f556-b640f7f79ca2"
      },
      "source": [
        "# replace 2's with 0's for better binary classification\n",
        "Y = Y.replace(2,0)"
      ],
      "execution_count": null,
      "outputs": [
        {
          "output_type": "stream",
          "text": [
            "0      1\n",
            "1      1\n",
            "2      1\n",
            "3      1\n",
            "4      1\n",
            "      ..\n",
            "301    1\n",
            "302    1\n",
            "303    1\n",
            "304    0\n",
            "305    0\n",
            "Name: SURVIVAL, Length: 306, dtype: int64\n"
          ],
          "name": "stdout"
        }
      ]
    },
    {
      "cell_type": "code",
      "metadata": {
        "colab": {
          "base_uri": "https://localhost:8080/"
        },
        "id": "hWwubfW6R21_",
        "outputId": "fb0dc293-ddf1-4fb2-ec61-2715a474b050"
      },
      "source": [
        "print(\"X shape: \", X.shape)\n",
        "print(\"Y shape: \", Y.shape)"
      ],
      "execution_count": null,
      "outputs": [
        {
          "output_type": "stream",
          "text": [
            "X shape:  (306, 3)\n",
            "Y shape:  (306,)\n"
          ],
          "name": "stdout"
        }
      ]
    },
    {
      "cell_type": "code",
      "metadata": {
        "colab": {
          "base_uri": "https://localhost:8080/"
        },
        "id": "dN6S3jgGTP64",
        "outputId": "d1db435a-559e-4aa1-f106-c1cb6a79133e"
      },
      "source": [
        "# split data\n",
        "X_train, X_test, y_train, y_test = train_test_split( X, Y, test_size=0.2, random_state=42)\n",
        "print(\"X_train shape: \", X_train.shape)\n",
        "print(\"y_train shape: \", y_train.shape)\n",
        "\n",
        "print(\"X_test shape: \", X_test.shape)\n",
        "print(\"y_test shape: \", y_test.shape)"
      ],
      "execution_count": null,
      "outputs": [
        {
          "output_type": "stream",
          "text": [
            "X_train shape:  (244, 3)\n",
            "y_train shape:  (244,)\n",
            "X_test shape:  (62, 3)\n",
            "y_test shape:  (62,)\n"
          ],
          "name": "stdout"
        }
      ]
    },
    {
      "cell_type": "code",
      "metadata": {
        "colab": {
          "base_uri": "https://localhost:8080/"
        },
        "id": "DKzR1EWeTTfk",
        "outputId": "f49d0bf7-88d4-4805-e775-7c9dccc3f1ed"
      },
      "source": [
        "# SVM\n",
        "clf = SVC(C=1.1, tol=1e-4,)\n",
        "clf.fit(X_train, y_train)"
      ],
      "execution_count": null,
      "outputs": [
        {
          "output_type": "execute_result",
          "data": {
            "text/plain": [
              "SVC(C=1.1, break_ties=False, cache_size=200, class_weight=None, coef0=0.0,\n",
              "    decision_function_shape='ovr', degree=3, gamma='scale', kernel='rbf',\n",
              "    max_iter=-1, probability=False, random_state=None, shrinking=True,\n",
              "    tol=0.0001, verbose=False)"
            ]
          },
          "metadata": {
            "tags": []
          },
          "execution_count": 162
        }
      ]
    },
    {
      "cell_type": "code",
      "metadata": {
        "id": "_qHDEbKEV76_"
      },
      "source": [
        "# predict\n",
        "y_pred = clf.predict(X_test)\n",
        "# convert series to np.ndarray\n",
        "y_test = y_test.to_numpy()"
      ],
      "execution_count": null,
      "outputs": []
    },
    {
      "cell_type": "code",
      "metadata": {
        "colab": {
          "base_uri": "https://localhost:8080/"
        },
        "id": "trV4JFUmWUx1",
        "outputId": "8d284604-a96d-4a40-a2eb-7b5cb0599aa7"
      },
      "source": [
        "print(\"Prediction: \",y_pred)\n",
        "print(\"True: \", y_test)"
      ],
      "execution_count": null,
      "outputs": [
        {
          "output_type": "stream",
          "text": [
            "Prediction:  [1 1 1 1 1 1 1 1 1 1 1 1 1 1 1 1 1 1 1 1 1 1 1 1 1 1 1 1 1 1 1 1 1 1 1 1 1\n",
            " 1 1 1 1 1 0 1 1 1 1 1 1 1 1 1 1 1 1 1 1 1 1 1 1 1]\n",
            "True:  [1 1 1 1 1 1 1 0 0 1 1 1 0 1 1 1 0 1 1 0 1 1 1 1 1 0 1 0 0 0 1 1 1 1 1 1 1\n",
            " 0 0 1 0 1 1 1 0 1 1 1 1 1 0 1 0 0 1 0 1 1 1 1 0 1]\n"
          ],
          "name": "stdout"
        }
      ]
    },
    {
      "cell_type": "code",
      "metadata": {
        "colab": {
          "base_uri": "https://localhost:8080/"
        },
        "id": "jSRQuU1CWc_m",
        "outputId": "1a7fc631-4a5a-415d-cbfa-2416dbe9eb2d"
      },
      "source": [
        "# confusion matrix\n",
        "conf_matrix = confusion_matrix(y_test, y_pred)\n",
        "print(conf_matrix)"
      ],
      "execution_count": null,
      "outputs": [
        {
          "output_type": "stream",
          "text": [
            "[[ 0 18]\n",
            " [ 1 43]]\n"
          ],
          "name": "stdout"
        }
      ]
    },
    {
      "cell_type": "code",
      "metadata": {
        "colab": {
          "base_uri": "https://localhost:8080/",
          "height": 279
        },
        "id": "tcYqyf9JWoZE",
        "outputId": "259b5f6a-744e-4001-f475-13f5162af68b"
      },
      "source": [
        "# confusion matrix plot\n",
        "plot_confusion_matrix(clf, X_test, y_test) \n",
        "plt.show()"
      ],
      "execution_count": null,
      "outputs": [
        {
          "output_type": "display_data",
          "data": {
            "image/png": "[encoded data removed]",
            "text/plain": [
              "<Figure size 432x288 with 2 Axes>"
            ]
          },
          "metadata": {
            "tags": [],
            "needs_background": "light"
          }
        }
      ]
    },
    {
      "cell_type": "code",
      "metadata": {
        "colab": {
          "base_uri": "https://localhost:8080/"
        },
        "id": "ar2HMJD0W9fL",
        "outputId": "00f4c1ef-8341-4e18-f5d4-61eb737b0130"
      },
      "source": [
        "# Function for calculation sens, spec\n",
        "def perf_measure(y_actual, y_hat):\n",
        "    TP = 0\n",
        "    FP = 0\n",
        "    TN = 0\n",
        "    FN = 0\n",
        "\n",
        "    for i in range(len(y_hat)): \n",
        "        if y_actual[i]==y_hat[i]==1:\n",
        "           TP += 1\n",
        "        if y_hat[i]==1 and y_actual[i]!=y_hat[i]:\n",
        "           FP += 1\n",
        "        if y_actual[i]==y_hat[i]==0:\n",
        "           TN += 1\n",
        "        if y_hat[i]==0 and y_actual[i]!=y_hat[i]:\n",
        "           FN += 1\n",
        "\n",
        "    return(TP, FP, TN, FN)\n",
        "\n",
        "TP, FP, TN, FN = perf_measure(y_test, y_pred)\n",
        "print(\"Overall\")\n",
        "# Sensitivity = (True Positive)/(True Positive + False Negative)\n",
        "print(\"sensitivity: \", TP / (TP + FN))\n",
        "# Specificity = (True Negative)/(True Negative + False Positive)\n",
        "print(\"specificity: \", TN/(TN+FP))\n",
        "print(\"accuracy: \", accuracy_score(y_test, y_pred))"
      ],
      "execution_count": null,
      "outputs": [
        {
          "output_type": "stream",
          "text": [
            "Overall\n",
            "sensitivity:  0.9772727272727273\n",
            "specificity:  0.0\n",
            "accuracy:  0.6935483870967742\n"
          ],
          "name": "stdout"
        }
      ]
    },
    {
      "cell_type": "code",
      "metadata": {
        "colab": {
          "base_uri": "https://localhost:8080/",
          "height": 279
        },
        "id": "gVDZ-7iCelKa",
        "outputId": "920736f5-b5bd-475a-ce5d-dee3bbfa7dfa"
      },
      "source": [
        "# ROC curve\n",
        "plot_roc_curve(clf, X_test, y_test)\n",
        "plt.show()"
      ],
      "execution_count": null,
      "outputs": [
        {
          "output_type": "display_data",
          "data": {
            "image/png": "[encoded data removed]",
            "text/plain": [
              "<Figure size 432x288 with 1 Axes>"
            ]
          },
          "metadata": {
            "tags": [],
            "needs_background": "light"
          }
        }
      ]
    },
    {
      "cell_type": "code",
      "metadata": {
        "id": "VZP-JcI7fIAA"
      },
      "source": [
        ""
      ],
      "execution_count": null,
      "outputs": []
    }
  ]
}