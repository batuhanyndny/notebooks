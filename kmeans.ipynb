{
  "nbformat": 4,
  "nbformat_minor": 0,
  "metadata": {
    "colab": {
      "name": "kmeans.ipynb",
      "provenance": [],
      "collapsed_sections": [],
      "authorship_tag": "ABX9TyNjy4iN18xAS5gtNlsxj95O",
      "include_colab_link": true
    },
    "kernelspec": {
      "name": "python3",
      "display_name": "Python 3"
    }
  },
  "cells": [
    {
      "cell_type": "markdown",
      "metadata": {
        "id": "view-in-github",
        "colab_type": "text"
      },
      "source": [
        "<a href=\"https://colab.research.google.com/github/batuhanyndny/notebooks/blob/master/kmeans.ipynb\" target=\"_parent\"><img src=\"https://colab.research.google.com/assets/colab-badge.svg\" alt=\"Open In Colab\"/></a>"
      ]
    },
    {
      "cell_type": "code",
      "metadata": {
        "id": "zf8ztYtmAoMq"
      },
      "source": [
        "import numpy as np\n",
        "import pandas as pd\n",
        "import matplotlib.pyplot as plt\n",
        "from sklearn.datasets import load_iris\n",
        "from copy import deepcopy\n",
        "\n",
        "data = load_iris()\n",
        "X = data['data']\n",
        "\n",
        "def kmeans(k):\n",
        "  K = k\n",
        "  # #of train and features\n",
        "  n,c = X.shape\n",
        "\n",
        "  # random centers\n",
        "  mean = np.mean(X, axis = 0)\n",
        "  std = np.std(X, axis = 0)\n",
        "  centers = np.random.randn(K,c)*std + mean #std and mean to normalize wrt data\n",
        "\n",
        "  centers_old = np.zeros(centers.shape) \n",
        "  centers_new = deepcopy(centers)\n",
        "\n",
        "  clusters = np.zeros(n)\n",
        "  distances = np.zeros((n,K))\n",
        "\n",
        "  error = np.linalg.norm(centers_new - centers_old)\n",
        "\n",
        "  # while until center doesn't chage\n",
        "  while error != 0:\n",
        "      # distance\n",
        "      for i in range(K):\n",
        "          distances[:,i] = np.linalg.norm(X - centers_new[i], axis=1)\n",
        "      # cluster assign\n",
        "      clusters = np.argmin(distances, axis = 1)\n",
        "      \n",
        "      centers_old = deepcopy(centers_new)\n",
        "      # calc mean and update\n",
        "      for i in range(K):\n",
        "          centers_new[i] = np.mean(X[clusters == i], axis=0)\n",
        "      error = np.linalg.norm(centers_new - centers_old)\n",
        "\n",
        "  # Plot the data\n",
        "  colors=['orange', 'blue', 'green']\n",
        "  for i in range(n):\n",
        "      plt.scatter(X[i, 0], X[i,1], s=7, color = colors[int(data['target'][i])])\n",
        "  plt.scatter(centers_new[:,0], centers_new[:,1], marker='*', c='g', s=150)\n",
        "  plt.show()"
      ],
      "execution_count": null,
      "outputs": []
    },
    {
      "cell_type": "code",
      "metadata": {
        "id": "FVpj-U1lraEr",
        "outputId": "ae1637ea-2cf7-4b9f-d898-ee8b68cafebf",
        "colab": {
          "base_uri": "https://localhost:8080/",
          "height": 268
        }
      },
      "source": [
        "kmeans(1)"
      ],
      "execution_count": null,
      "outputs": [
        {
          "output_type": "display_data",
          "data": {
            "image/png": "[encoded data removed]",
            "text/plain": [
              "<Figure size 432x288 with 1 Axes>"
            ]
          },
          "metadata": {
            "tags": [],
            "needs_background": "light"
          }
        }
      ]
    },
    {
      "cell_type": "code",
      "metadata": {
        "id": "2cLp_vmHraK0",
        "outputId": "110ec8ae-5f06-4066-c298-6f592fa812ec",
        "colab": {
          "base_uri": "https://localhost:8080/",
          "height": 268
        }
      },
      "source": [
        "kmeans(2)"
      ],
      "execution_count": null,
      "outputs": [
        {
          "output_type": "display_data",
          "data": {
            "image/png": "[encoded data removed]",
            "text/plain": [
              "<Figure size 432x288 with 1 Axes>"
            ]
          },
          "metadata": {
            "tags": [],
            "needs_background": "light"
          }
        }
      ]
    },
    {
      "cell_type": "code",
      "metadata": {
        "id": "91iD_V8BC-EK",
        "outputId": "e3f13414-2171-4e0b-8f68-6ae6f12988bb",
        "colab": {
          "base_uri": "https://localhost:8080/",
          "height": 268
        }
      },
      "source": [
        "kmeans(3)"
      ],
      "execution_count": null,
      "outputs": [
        {
          "output_type": "display_data",
          "data": {
            "image/png": "[encoded data removed]",
            "text/plain": [
              "<Figure size 432x288 with 1 Axes>"
            ]
          },
          "metadata": {
            "tags": [],
            "needs_background": "light"
          }
        }
      ]
    },
    {
      "cell_type": "code",
      "metadata": {
        "id": "-cuvT9PHqmq3",
        "outputId": "01079221-bcb4-4c40-9867-3c37876dd02c",
        "colab": {
          "base_uri": "https://localhost:8080/",
          "height": 268
        }
      },
      "source": [
        "kmeans(4)"
      ],
      "execution_count": null,
      "outputs": [
        {
          "output_type": "display_data",
          "data": {
            "image/png": "[encoded data removed]",
            "text/plain": [
              "<Figure size 432x288 with 1 Axes>"
            ]
          },
          "metadata": {
            "tags": [],
            "needs_background": "light"
          }
        }
      ]
    },
    {
      "cell_type": "code",
      "metadata": {
        "id": "hxPtzhswqrYV"
      },
      "source": [
        "# Courtesy: https://www.youtube.com/watch?v=QzAaRuDskyc\n",
        "# helped me a lot. Watched the full implementation and understood.\n",
        "\n",
        "class KNearestNeighbor:\n",
        "    def __init__(self, k):\n",
        "        self.k = k\n",
        "\n",
        "    def train(self, X, y):\n",
        "        self.X_train = X\n",
        "        self.y_train = y\n",
        "\n",
        "    def compute_distance(self, X_test):\n",
        "        num_test = X_test.shape[0]\n",
        "        num_train = self.X_train.shape[0]\n",
        "        distances = np.zeros((num_test, num_train))\n",
        "\n",
        "        for i in range(num_test):\n",
        "            for j in range(num_train):\n",
        "                distances[i, j] = np.sqrt(np.sum((X_test[i, :] - self.X_train[j, :]) ** 2))\n",
        "\n",
        "        return distances\n",
        "\n",
        "    def predict(self, X_test):\n",
        "        distances = self.compute_distance(X_test)\n",
        "        num_test = distances.shape[0]\n",
        "        y_pred = np.zeros(num_test)\n",
        "\n",
        "        for i in range(num_test):\n",
        "            y_indices = np.argsort(distances[i, :])\n",
        "            k_closest_classes = self.y_train[y_indices[: self.k]].astype(int)\n",
        "            y_pred[i] = np.argmax(np.bincount(k_closest_classes))\n",
        "\n",
        "        return y_pred"
      ],
      "execution_count": null,
      "outputs": []
    },
    {
      "cell_type": "code",
      "metadata": {
        "id": "a-plRc7Rs5r-",
        "outputId": "b84112a0-43d2-4201-a79a-807cb26ec361",
        "colab": {
          "base_uri": "https://localhost:8080/",
          "height": 268
        }
      },
      "source": [
        "knn = KNearestNeighbor(3)\n",
        "X = data['data']\n",
        "y = data['target']\n",
        "knn.train(X, y)\n",
        "pred = knn.predict(X)\n",
        "colors=['orange', 'blue', 'green']\n",
        "for i in range(len(X)):\n",
        "  plt.scatter(X[i, 0], X[i,1], s=7, color = colors[int(pred[i])])"
      ],
      "execution_count": null,
      "outputs": [
        {
          "output_type": "display_data",
          "data": {
            "image/png": "[encoded data removed]",
            "text/plain": [
              "<Figure size 432x288 with 1 Axes>"
            ]
          },
          "metadata": {
            "tags": [],
            "needs_background": "light"
          }
        }
      ]
    },
    {
      "cell_type": "code",
      "metadata": {
        "id": "oe9OmDwvtOJV"
      },
      "source": [
        ""
      ],
      "execution_count": null,
      "outputs": []
    }
  ]
}